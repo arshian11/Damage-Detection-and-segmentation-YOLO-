{
 "cells": [
  {
   "cell_type": "code",
   "execution_count": 1,
   "metadata": {},
   "outputs": [],
   "source": [
    "import cv2\n",
    "import json\n",
    "import os\n",
    "import numpy as np"
   ]
  },
  {
   "cell_type": "code",
   "execution_count": 3,
   "metadata": {},
   "outputs": [],
   "source": [
    "# Load the JSON data from the directory\n",
    "with open('C:\\\\Users\\\\ARSH\\\\Desktop\\\\ARSh\\\\Machine Learning\\\\Projects\\\\YOLO model\\\\annotations\\\\instances_train.json', 'r') as f:\n",
    "    data = json.load(f)"
   ]
  },
  {
   "cell_type": "code",
   "execution_count": 5,
   "metadata": {},
   "outputs": [],
   "source": [
    "def draw_bbox(image, bbox, color):\n",
    "    \"\"\"Helper function to draw bounding boxes.\"\"\"\n",
    "    x, y, w, h = bbox\n",
    "    cv2.rectangle(image, (int(x), int(y)), (int(x + w), int(y + h)), color, 2)\n",
    "\n",
    "def draw_segmentation_boundary(image, segmentation, color, thickness=2):\n",
    "    \"\"\"Helper function to draw the boundary of the segmentation.\"\"\"\n",
    "    pts = np.array(segmentation[0], np.int32)  \n",
    "    pts = pts.reshape((-1, 1, 2))\n",
    "    cv2.polylines(image, [pts], isClosed=True, color=color, thickness=thickness)\n",
    "\n",
    "def yolo_format_bbox(img_width, img_height, bbox):\n",
    "    \"\"\"Converts bounding box format to YOLO format.\"\"\"\n",
    "    x, y, w, h = bbox\n",
    "    x_center = (x + w/2) / img_width\n",
    "    y_center = (y + h/2) / img_height\n",
    "    w = w / img_width\n",
    "    h = h / img_height\n",
    "    return x_center, y_center, w, h"
   ]
  },
  {
   "cell_type": "code",
   "execution_count": 15,
   "metadata": {},
   "outputs": [],
   "source": [
    "# Directory where the train images are stored\n",
    "images_directory = \"C:\\\\Users\\\\ARSH\\\\Desktop\\\\ARSh\\\\Machine Learning\\\\Projects\\\\YOLO model\\\\train\" \n",
    "# The new directory where the labeled images will be stored\n",
    "output_directory = \"C:\\\\Users\\\\ARSH\\\\Desktop\\\\ARSh\\\\Machine Learning\\\\Projects\\\\YOLO model\\\\labled_train\""
   ]
  },
  {
   "cell_type": "code",
   "execution_count": 16,
   "metadata": {},
   "outputs": [],
   "source": [
    "image_dict = {image[\"id\"]: image[\"file_name\"] for image in data[\"images\"]}"
   ]
  },
  {
   "cell_type": "code",
   "execution_count": 18,
   "metadata": {},
   "outputs": [],
   "source": [
    "for annotation in data[\"annotations\"]:\n",
    "    image_id = annotation[\"image_id\"]\n",
    "    image_file_name = image_dict[image_id]\n",
    "    image_path = os.path.join(images_directory, image_file_name)\n",
    "    \n",
    "    image = cv2.imread(image_path)\n",
    "    image_height, image_width = image.shape[:2]\n",
    "\n",
    "    # Draw bounding boxes on the image, and segmentation if present\n",
    "    if \"house_bbox\" in annotation:\n",
    "        draw_bbox(image, annotation[\"house_bbox\"], (0, 255, 0))  # Green color for the house\n",
    "    if \"damage_bbox\" in annotation:\n",
    "        draw_bbox(image, annotation[\"damage_bbox\"], (0, 0, 255))  # Red color for the damage\n",
    "    if \"segmentation\" in annotation:\n",
    "        draw_segmentation_boundary(image, annotation[\"segmentation\"], (0, 255, 255))  # Yellow color for segmentation\n",
    "\n",
    "    house_bbox_yolo = yolo_format_bbox(image_width, image_height, annotation[\"house_bbox\"])\n",
    "    damage_bbox_yolo = yolo_format_bbox(image_width, image_height, annotation[\"damage_bbox\"])\n",
    "\n",
    "\n",
    "    # Save the labeled image\n",
    "    output_path = os.path.join(output_directory, \"labeled_\" + image_file_name)\n",
    "    cv2.imwrite(output_path, image)\n",
    "\n",
    "    output_txt_path = os.path.join(output_directory, os.path.splitext(image_file_name)[0] + \".txt\")\n",
    "    with open(output_txt_path, 'w') as txt_file:\n",
    "        txt_file.write(f\"0 {house_bbox_yolo[0]} {house_bbox_yolo[1]} {house_bbox_yolo[2]} {house_bbox_yolo[3]}\\n\")\n",
    "        txt_file.write(f\"1 {damage_bbox_yolo[0]} {damage_bbox_yolo[1]} {damage_bbox_yolo[2]} {damage_bbox_yolo[3]}\\n\")"
   ]
  },
  {
   "cell_type": "code",
   "execution_count": null,
   "metadata": {},
   "outputs": [],
   "source": []
  }
 ],
 "metadata": {
  "kernelspec": {
   "display_name": "Python 3",
   "language": "python",
   "name": "python3"
  },
  "language_info": {
   "codemirror_mode": {
    "name": "ipython",
    "version": 3
   },
   "file_extension": ".py",
   "mimetype": "text/x-python",
   "name": "python",
   "nbconvert_exporter": "python",
   "pygments_lexer": "ipython3",
   "version": "3.10.8"
  }
 },
 "nbformat": 4,
 "nbformat_minor": 2
}
